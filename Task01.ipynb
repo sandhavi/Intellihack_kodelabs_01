{
 "cells": [
  {
   "cell_type": "code",
   "execution_count": 76,
   "id": "9519de17",
   "metadata": {},
   "outputs": [],
   "source": [
    "import pandas as pd\n",
    "from sklearn.model_selection import train_test_split\n",
    "from sklearn.preprocessing import StandardScaler\n",
    "from sklearn.ensemble import RandomForestClassifier\n",
    "from sklearn.metrics import classification_report, accuracy_score\n",
    "import joblib"
   ]
  },
  {
   "cell_type": "code",
   "execution_count": 77,
   "id": "d2a9988d",
   "metadata": {},
   "outputs": [
    {
     "name": "stdout",
     "output_type": "stream",
     "text": [
      "    N   P   K  temperature   humidity        ph    rainfall  Total_Nutrients  \\\n",
      "0  90  42  43    20.879744  82.002744  6.502985  202.935536              175   \n",
      "1  85  58  41    21.770462  80.319644  7.038096  226.655537              184   \n",
      "2  60  55  44    23.004459  82.320763  7.840207  263.964248              159   \n",
      "3  74  35  40    26.491096  80.158363  6.980401  242.864034              149   \n",
      "4  78  42  42    20.130175  81.604873  7.628473  262.717340              162   \n",
      "\n",
      "   Temperature_Humidity  Log_Rainfall  Label  Label_Encoded  \n",
      "0           1712.196283      5.317804  wheat              0  \n",
      "1           1748.595734      5.427834  wheat              0  \n",
      "2           1893.744627      5.579595  wheat              0  \n",
      "3           2123.482908      5.496611  wheat              0  \n",
      "4           1642.720357      5.574878  wheat              0  \n"
     ]
    }
   ],
   "source": [
    "data = pd.read_csv('Crop_Dataset.csv')\n",
    "print(data.head())"
   ]
  },
  {
   "cell_type": "code",
   "execution_count": 78,
   "id": "d181be04",
   "metadata": {
    "scrolled": true
   },
   "outputs": [
    {
     "name": "stdout",
     "output_type": "stream",
     "text": [
      "<class 'pandas.core.frame.DataFrame'>\n",
      "RangeIndex: 2200 entries, 0 to 2199\n",
      "Data columns (total 12 columns):\n",
      " #   Column                Non-Null Count  Dtype  \n",
      "---  ------                --------------  -----  \n",
      " 0   N                     2200 non-null   int64  \n",
      " 1   P                     2200 non-null   int64  \n",
      " 2   K                     2200 non-null   int64  \n",
      " 3   temperature           2200 non-null   float64\n",
      " 4   humidity              2200 non-null   float64\n",
      " 5   ph                    2200 non-null   float64\n",
      " 6   rainfall              2200 non-null   float64\n",
      " 7   Total_Nutrients       2200 non-null   int64  \n",
      " 8   Temperature_Humidity  2200 non-null   float64\n",
      " 9   Log_Rainfall          2200 non-null   float64\n",
      " 10  Label                 2200 non-null   object \n",
      " 11  Label_Encoded         2200 non-null   int64  \n",
      "dtypes: float64(6), int64(5), object(1)\n",
      "memory usage: 206.4+ KB\n",
      "None\n"
     ]
    }
   ],
   "source": [
    "print(data.info())"
   ]
  },
  {
   "cell_type": "code",
   "execution_count": 79,
   "id": "df2b8e99",
   "metadata": {},
   "outputs": [
    {
     "name": "stdout",
     "output_type": "stream",
     "text": [
      "N                       0\n",
      "P                       0\n",
      "K                       0\n",
      "temperature             0\n",
      "humidity                0\n",
      "ph                      0\n",
      "rainfall                0\n",
      "Total_Nutrients         0\n",
      "Temperature_Humidity    0\n",
      "Log_Rainfall            0\n",
      "Label                   0\n",
      "Label_Encoded           0\n",
      "dtype: int64\n"
     ]
    }
   ],
   "source": [
    "print(data.isnull().sum())"
   ]
  },
  {
   "cell_type": "code",
   "execution_count": 80,
   "id": "ef72fec1",
   "metadata": {
    "scrolled": false
   },
   "outputs": [
    {
     "name": "stdout",
     "output_type": "stream",
     "text": [
      "          N         P         K  temperature  humidity        ph  rainfall  \\\n",
      "0  1.068797 -0.344551 -0.101688    -0.935587  0.472666  0.043302  1.810361   \n",
      "1  0.933329  0.140616 -0.141185    -0.759646  0.397051  0.734873  2.242058   \n",
      "2  0.255986  0.049647 -0.081939    -0.515898  0.486954  1.771510  2.921066   \n",
      "3  0.635298 -0.556811 -0.160933     0.172807  0.389805  0.660308  2.537048   \n",
      "4  0.743673 -0.344551 -0.121436    -1.083647  0.454792  1.497868  2.898373   \n",
      "\n",
      "   Total_Nutrients  Temperature_Humidity  Log_Rainfall  Label  Label_Encoded  \n",
      "0         0.287062             -0.203138      1.483789  wheat              0  \n",
      "1         0.399702             -0.151079      1.685576  wheat              0  \n",
      "2         0.086813              0.056511      1.963897  wheat              0  \n",
      "3        -0.038343              0.385081      1.811709  wheat              0  \n",
      "4         0.124359             -0.302501      1.955246  wheat              0  \n"
     ]
    }
   ],
   "source": [
    "scaler = StandardScaler()\n",
    "numeric_columns = ['N', 'P', 'K', 'temperature', 'humidity', 'ph', 'rainfall', 'Total_Nutrients', 'Temperature_Humidity', 'Log_Rainfall']\n",
    "data[numeric_columns] = scaler.fit_transform(data[numeric_columns])\n",
    "\n",
    "print(data.head())"
   ]
  },
  {
   "cell_type": "code",
   "execution_count": 81,
   "id": "1a8f4d3f",
   "metadata": {},
   "outputs": [],
   "source": [
    "X = data.drop(columns=['Label', 'Label_Encoded'])\n",
    "y = data['Label_Encoded']\n",
    "\n",
    "X_train, X_test, y_train, y_test = train_test_split(X, y, test_size=0.2, random_state=42)"
   ]
  },
  {
   "cell_type": "code",
   "execution_count": 82,
   "id": "f90fd964",
   "metadata": {},
   "outputs": [
    {
     "data": {
      "text/html": [
       "<style>#sk-container-id-5 {color: black;background-color: white;}#sk-container-id-5 pre{padding: 0;}#sk-container-id-5 div.sk-toggleable {background-color: white;}#sk-container-id-5 label.sk-toggleable__label {cursor: pointer;display: block;width: 100%;margin-bottom: 0;padding: 0.3em;box-sizing: border-box;text-align: center;}#sk-container-id-5 label.sk-toggleable__label-arrow:before {content: \"▸\";float: left;margin-right: 0.25em;color: #696969;}#sk-container-id-5 label.sk-toggleable__label-arrow:hover:before {color: black;}#sk-container-id-5 div.sk-estimator:hover label.sk-toggleable__label-arrow:before {color: black;}#sk-container-id-5 div.sk-toggleable__content {max-height: 0;max-width: 0;overflow: hidden;text-align: left;background-color: #f0f8ff;}#sk-container-id-5 div.sk-toggleable__content pre {margin: 0.2em;color: black;border-radius: 0.25em;background-color: #f0f8ff;}#sk-container-id-5 input.sk-toggleable__control:checked~div.sk-toggleable__content {max-height: 200px;max-width: 100%;overflow: auto;}#sk-container-id-5 input.sk-toggleable__control:checked~label.sk-toggleable__label-arrow:before {content: \"▾\";}#sk-container-id-5 div.sk-estimator input.sk-toggleable__control:checked~label.sk-toggleable__label {background-color: #d4ebff;}#sk-container-id-5 div.sk-label input.sk-toggleable__control:checked~label.sk-toggleable__label {background-color: #d4ebff;}#sk-container-id-5 input.sk-hidden--visually {border: 0;clip: rect(1px 1px 1px 1px);clip: rect(1px, 1px, 1px, 1px);height: 1px;margin: -1px;overflow: hidden;padding: 0;position: absolute;width: 1px;}#sk-container-id-5 div.sk-estimator {font-family: monospace;background-color: #f0f8ff;border: 1px dotted black;border-radius: 0.25em;box-sizing: border-box;margin-bottom: 0.5em;}#sk-container-id-5 div.sk-estimator:hover {background-color: #d4ebff;}#sk-container-id-5 div.sk-parallel-item::after {content: \"\";width: 100%;border-bottom: 1px solid gray;flex-grow: 1;}#sk-container-id-5 div.sk-label:hover label.sk-toggleable__label {background-color: #d4ebff;}#sk-container-id-5 div.sk-serial::before {content: \"\";position: absolute;border-left: 1px solid gray;box-sizing: border-box;top: 0;bottom: 0;left: 50%;z-index: 0;}#sk-container-id-5 div.sk-serial {display: flex;flex-direction: column;align-items: center;background-color: white;padding-right: 0.2em;padding-left: 0.2em;position: relative;}#sk-container-id-5 div.sk-item {position: relative;z-index: 1;}#sk-container-id-5 div.sk-parallel {display: flex;align-items: stretch;justify-content: center;background-color: white;position: relative;}#sk-container-id-5 div.sk-item::before, #sk-container-id-5 div.sk-parallel-item::before {content: \"\";position: absolute;border-left: 1px solid gray;box-sizing: border-box;top: 0;bottom: 0;left: 50%;z-index: -1;}#sk-container-id-5 div.sk-parallel-item {display: flex;flex-direction: column;z-index: 1;position: relative;background-color: white;}#sk-container-id-5 div.sk-parallel-item:first-child::after {align-self: flex-end;width: 50%;}#sk-container-id-5 div.sk-parallel-item:last-child::after {align-self: flex-start;width: 50%;}#sk-container-id-5 div.sk-parallel-item:only-child::after {width: 0;}#sk-container-id-5 div.sk-dashed-wrapped {border: 1px dashed gray;margin: 0 0.4em 0.5em 0.4em;box-sizing: border-box;padding-bottom: 0.4em;background-color: white;}#sk-container-id-5 div.sk-label label {font-family: monospace;font-weight: bold;display: inline-block;line-height: 1.2em;}#sk-container-id-5 div.sk-label-container {text-align: center;}#sk-container-id-5 div.sk-container {/* jupyter's `normalize.less` sets `[hidden] { display: none; }` but bootstrap.min.css set `[hidden] { display: none !important; }` so we also need the `!important` here to be able to override the default hidden behavior on the sphinx rendered scikit-learn.org. See: https://github.com/scikit-learn/scikit-learn/issues/21755 */display: inline-block !important;position: relative;}#sk-container-id-5 div.sk-text-repr-fallback {display: none;}</style><div id=\"sk-container-id-5\" class=\"sk-top-container\"><div class=\"sk-text-repr-fallback\"><pre>RandomForestClassifier(random_state=42)</pre><b>In a Jupyter environment, please rerun this cell to show the HTML representation or trust the notebook. <br />On GitHub, the HTML representation is unable to render, please try loading this page with nbviewer.org.</b></div><div class=\"sk-container\" hidden><div class=\"sk-item\"><div class=\"sk-estimator sk-toggleable\"><input class=\"sk-toggleable__control sk-hidden--visually\" id=\"sk-estimator-id-5\" type=\"checkbox\" checked><label for=\"sk-estimator-id-5\" class=\"sk-toggleable__label sk-toggleable__label-arrow\">RandomForestClassifier</label><div class=\"sk-toggleable__content\"><pre>RandomForestClassifier(random_state=42)</pre></div></div></div></div></div>"
      ],
      "text/plain": [
       "RandomForestClassifier(random_state=42)"
      ]
     },
     "execution_count": 82,
     "metadata": {},
     "output_type": "execute_result"
    }
   ],
   "source": [
    "rf_classifier = RandomForestClassifier(random_state=42)\n",
    "rf_classifier.fit(X_train, y_train)"
   ]
  },
  {
   "cell_type": "code",
   "execution_count": 83,
   "id": "36a6c72c",
   "metadata": {},
   "outputs": [
    {
     "data": {
      "text/plain": [
       "['crop_recommendation_model.joblib']"
      ]
     },
     "execution_count": 83,
     "metadata": {},
     "output_type": "execute_result"
    }
   ],
   "source": [
    "joblib.dump(rf_classifier, 'crop_recommendation_model.joblib')"
   ]
  },
  {
   "cell_type": "code",
   "execution_count": 84,
   "id": "69279cc1",
   "metadata": {},
   "outputs": [
    {
     "name": "stdout",
     "output_type": "stream",
     "text": [
      "Accuracy: 99.09%\n"
     ]
    }
   ],
   "source": [
    "y_pred = rf_classifier.predict(X_test)\n",
    "\n",
    "accuracy = accuracy_score(y_test, y_pred)\n",
    "print(f'Accuracy: {accuracy * 100:.2f}%')"
   ]
  },
  {
   "cell_type": "code",
   "execution_count": 85,
   "id": "6357cff0",
   "metadata": {},
   "outputs": [
    {
     "name": "stdout",
     "output_type": "stream",
     "text": [
      "              precision    recall  f1-score   support\n",
      "\n",
      "           0       0.94      0.89      0.92        19\n",
      "           1       1.00      1.00      1.00        21\n",
      "           2       1.00      1.00      1.00        26\n",
      "           3       1.00      1.00      1.00        20\n",
      "           4       1.00      1.00      1.00        23\n",
      "           5       1.00      0.96      0.98        24\n",
      "           6       1.00      1.00      1.00        19\n",
      "           7       1.00      1.00      1.00        20\n",
      "           8       0.92      1.00      0.96        11\n",
      "           9       1.00      1.00      1.00        23\n",
      "          10       1.00      1.00      1.00        21\n",
      "          11       1.00      1.00      1.00        19\n",
      "          12       1.00      1.00      1.00        14\n",
      "          13       1.00      1.00      1.00        19\n",
      "          14       1.00      1.00      1.00        17\n",
      "          15       1.00      1.00      1.00        23\n",
      "          16       1.00      1.00      1.00        14\n",
      "          17       1.00      1.00      1.00        23\n",
      "          18       1.00      1.00      1.00        27\n",
      "          19       1.00      1.00      1.00        17\n",
      "          20       0.92      0.96      0.94        23\n",
      "          21       1.00      1.00      1.00        17\n",
      "\n",
      "    accuracy                           0.99       440\n",
      "   macro avg       0.99      0.99      0.99       440\n",
      "weighted avg       0.99      0.99      0.99       440\n",
      "\n"
     ]
    }
   ],
   "source": [
    "print(classification_report(y_test, y_pred))"
   ]
  },
  {
   "cell_type": "code",
   "execution_count": 86,
   "id": "f7a61827",
   "metadata": {},
   "outputs": [
    {
     "name": "stderr",
     "output_type": "stream",
     "text": [
      "C:\\ProgramData\\anaconda3\\Lib\\site-packages\\sklearn\\base.py:439: UserWarning: X does not have valid feature names, but RandomForestClassifier was fitted with feature names\n",
      "  warnings.warn(\n"
     ]
    }
   ],
   "source": [
    "model = joblib.load('crop_recommendation_model.joblib')\n",
    "\n",
    "new_conditions = pd.DataFrame({\n",
    "    'N': [50],\n",
    "    'P': [40],\n",
    "    'K': [30],\n",
    "    'temperature': [14],\n",
    "    'humidity': [70],\n",
    "    'ph': [6.5],\n",
    "    'rainfall': [200],\n",
    "    'Total_Nutrients': [120],\n",
    "    'Temperature_Humidity': [1600],\n",
    "    'Log_Rainfall': [5.3]\n",
    "})\n",
    "\n",
    "new_conditions_scaled = scaler.transform(new_conditions)\n",
    "new_prediction = model.predict(new_conditions_scaled)"
   ]
  },
  {
   "cell_type": "code",
   "execution_count": 87,
   "id": "8ce65a08",
   "metadata": {},
   "outputs": [
    {
     "name": "stdout",
     "output_type": "stream",
     "text": [
      "Recommended crop: cauliflower\n"
     ]
    }
   ],
   "source": [
    "distinct_labels = data['Label'].unique()\n",
    "label_mapping = {i: label for i, label in enumerate(distinct_labels)}\n",
    "\n",
    "predicted_crop = label_mapping.get(new_prediction[0])\n",
    "print('Recommended crop:', predicted_crop)"
   ]
  },
  {
   "cell_type": "code",
   "execution_count": null,
   "id": "92f19c8b",
   "metadata": {},
   "outputs": [],
   "source": []
  }
 ],
 "metadata": {
  "kernelspec": {
   "display_name": "Python 3 (ipykernel)",
   "language": "python",
   "name": "python3"
  },
  "language_info": {
   "codemirror_mode": {
    "name": "ipython",
    "version": 3
   },
   "file_extension": ".py",
   "mimetype": "text/x-python",
   "name": "python",
   "nbconvert_exporter": "python",
   "pygments_lexer": "ipython3",
   "version": "3.11.7"
  }
 },
 "nbformat": 4,
 "nbformat_minor": 5
}
