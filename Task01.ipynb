{
 "cells": [
  {
   "cell_type": "code",
   "execution_count": 1,
   "id": "9519de17",
   "metadata": {},
   "outputs": [],
   "source": [
    "import pandas as pd\n",
    "import numpy as np\n",
    "from sklearn.model_selection import train_test_split\n",
    "from sklearn.preprocessing import StandardScaler, OneHotEncoder\n",
    "from sklearn.ensemble import RandomForestClassifier\n",
    "from sklearn.metrics import classification_report, accuracy_score\n",
    "import joblib"
   ]
  },
  {
   "cell_type": "code",
   "execution_count": 3,
   "id": "d2a9988d",
   "metadata": {},
   "outputs": [
    {
     "name": "stdout",
     "output_type": "stream",
     "text": [
      "    N   P   K  temperature   humidity        ph    rainfall  Total_Nutrients  \\\n",
      "0  90  42  43    20.879744  82.002744  6.502985  202.935536              175   \n",
      "1  85  58  41    21.770462  80.319644  7.038096  226.655537              184   \n",
      "2  60  55  44    23.004459  82.320763  7.840207  263.964248              159   \n",
      "3  74  35  40    26.491096  80.158363  6.980401  242.864034              149   \n",
      "4  78  42  42    20.130175  81.604873  7.628473  262.717340              162   \n",
      "\n",
      "   Temperature_Humidity  Log_Rainfall  Label  Label_Encoded  \n",
      "0           1712.196283      5.317804  wheat              0  \n",
      "1           1748.595734      5.427834  wheat              0  \n",
      "2           1893.744627      5.579595  wheat              0  \n",
      "3           2123.482908      5.496611  wheat              0  \n",
      "4           1642.720357      5.574878  wheat              0  \n"
     ]
    }
   ],
   "source": [
    "data = pd.read_csv('Crop_Dataset.csv')\n",
    "print(data.head())"
   ]
  },
  {
   "cell_type": "code",
   "execution_count": 4,
   "id": "d181be04",
   "metadata": {},
   "outputs": [
    {
     "name": "stdout",
     "output_type": "stream",
     "text": [
      "<class 'pandas.core.frame.DataFrame'>\n",
      "RangeIndex: 2200 entries, 0 to 2199\n",
      "Data columns (total 12 columns):\n",
      " #   Column                Non-Null Count  Dtype  \n",
      "---  ------                --------------  -----  \n",
      " 0   N                     2200 non-null   int64  \n",
      " 1   P                     2200 non-null   int64  \n",
      " 2   K                     2200 non-null   int64  \n",
      " 3   temperature           2200 non-null   float64\n",
      " 4   humidity              2200 non-null   float64\n",
      " 5   ph                    2200 non-null   float64\n",
      " 6   rainfall              2200 non-null   float64\n",
      " 7   Total_Nutrients       2200 non-null   int64  \n",
      " 8   Temperature_Humidity  2200 non-null   float64\n",
      " 9   Log_Rainfall          2200 non-null   float64\n",
      " 10  Label                 2200 non-null   object \n",
      " 11  Label_Encoded         2200 non-null   int64  \n",
      "dtypes: float64(6), int64(5), object(1)\n",
      "memory usage: 206.4+ KB\n",
      "None\n"
     ]
    }
   ],
   "source": [
    "print(data.info())"
   ]
  },
  {
   "cell_type": "code",
   "execution_count": 5,
   "id": "df2b8e99",
   "metadata": {},
   "outputs": [
    {
     "name": "stdout",
     "output_type": "stream",
     "text": [
      "N                       0\n",
      "P                       0\n",
      "K                       0\n",
      "temperature             0\n",
      "humidity                0\n",
      "ph                      0\n",
      "rainfall                0\n",
      "Total_Nutrients         0\n",
      "Temperature_Humidity    0\n",
      "Log_Rainfall            0\n",
      "Label                   0\n",
      "Label_Encoded           0\n",
      "dtype: int64\n"
     ]
    }
   ],
   "source": [
    "print(data.isnull().sum())"
   ]
  },
  {
   "cell_type": "code",
   "execution_count": null,
   "id": "ef72fec1",
   "metadata": {},
   "outputs": [],
   "source": []
  }
 ],
 "metadata": {
  "kernelspec": {
   "display_name": "Python 3 (ipykernel)",
   "language": "python",
   "name": "python3"
  },
  "language_info": {
   "codemirror_mode": {
    "name": "ipython",
    "version": 3
   },
   "file_extension": ".py",
   "mimetype": "text/x-python",
   "name": "python",
   "nbconvert_exporter": "python",
   "pygments_lexer": "ipython3",
   "version": "3.11.7"
  }
 },
 "nbformat": 4,
 "nbformat_minor": 5
}
